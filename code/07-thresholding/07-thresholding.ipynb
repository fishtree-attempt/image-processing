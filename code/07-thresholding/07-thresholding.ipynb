{
 "cells": [
  {
   "cell_type": "markdown",
   "id": "82606d9e",
   "metadata": {},
   "source": [
    "# Thresholding"
   ]
  },
  {
   "cell_type": "markdown",
   "id": "c45d59ea",
   "metadata": {},
   "source": [
    "## Simple thresholding"
   ]
  },
  {
   "cell_type": "code",
   "execution_count": null,
   "id": "731ef48b",
   "metadata": {},
   "outputs": [],
   "source": [
    "import numpy as np\n",
    "import matplotlib.pyplot as plt\n",
    "import skimage.io\n",
    "import skimage.color\n",
    "import skimage.filters"
   ]
  },
  {
   "cell_type": "code",
   "execution_count": null,
   "id": "df336644",
   "metadata": {},
   "outputs": [],
   "source": [
    "import numpy as np\n",
    "import matplotlib.pyplot as plt\n",
    "import skimage.io\n",
    "import skimage.color\n",
    "import skimage.filters\n",
    "\n",
    "# load the image\n",
    "image = skimage.io.imread(\"../../fig/06-junk-before.jpg\")\n",
    "\n",
    "# convert the image to grayscale\n",
    "gray_image = skimage.color.rgb2gray(image)"
   ]
  },
  {
   "cell_type": "code",
   "execution_count": null,
   "id": "77f1402b",
   "metadata": {},
   "outputs": [],
   "source": [
    "# create a histogram of the blurred grayscale image\n",
    "histogram, bin_edges = np.histogram(gray_image, bins=256, range=(0.0, 1.0))\n",
    "\n",
    "plt.plot(bin_edges[0:-1], histogram)\n",
    "plt.title(\"Grayscale Histogram\")\n",
    "plt.xlabel(\"grayscale value\")\n",
    "plt.ylabel(\"pixels\")\n",
    "plt.xlim(0, 1.0)\n",
    "plt.show()"
   ]
  },
  {
   "cell_type": "code",
   "execution_count": null,
   "id": "33c41f1c",
   "metadata": {},
   "outputs": [],
   "source": [
    "# create a mask based on the threshold\n",
    "t = 0.8\n",
    "binary_mask = gray_image < t\n",
    "skimage.io.imshow(binary_mask)\n",
    "plt.show()"
   ]
  },
  {
   "cell_type": "code",
   "execution_count": null,
   "id": "7bf06891",
   "metadata": {},
   "outputs": [],
   "source": [
    "# use the binary_mask to select the \"interesting\" part of the image\n",
    "selection = np.zeros_like(image)\n",
    "selection[binary_mask] = image[binary_mask]\n",
    "\n",
    "skimage.io.imshow(selection)\n",
    "plt.show()"
   ]
  },
  {
   "cell_type": "markdown",
   "id": "aad24e26",
   "metadata": {},
   "source": [
    "### More practice with simple thresholding"
   ]
  },
  {
   "cell_type": "code",
   "execution_count": null,
   "id": "801983f4",
   "metadata": {},
   "outputs": [],
   "source": [
    "image = skimage.io.imread(\"../../fig/06-more-junk.jpg\")\n",
    "gray_image = skimage.color.rgb2gray(image)\n",
    "histogram, bin_edges = np.histogram(gray_image, bins=256, range=(0.0, 1.0))\n",
    "\n",
    "plt.plot(bin_edges[0:-1], histogram)\n",
    "plt.title(\"Graylevel histogram\")\n",
    "plt.xlabel(\"gray value\")\n",
    "plt.ylabel(\"pixel count\")\n",
    "plt.xlim(0, 1.0)\n",
    "plt.show()"
   ]
  },
  {
   "cell_type": "code",
   "execution_count": null,
   "id": "38a17360",
   "metadata": {},
   "outputs": [],
   "source": [
    "t = 0.5\n",
    "binary_mask = gray_image > t\n",
    "\n",
    "skimage.io.imshow(binary_mask)\n",
    "plt.show()"
   ]
  },
  {
   "cell_type": "code",
   "execution_count": null,
   "id": "e2e0250c",
   "metadata": {},
   "outputs": [],
   "source": [
    "selection = np.zeros_like(image)\n",
    "selection[binary_mask] = image[binary_mask]\n",
    "\n",
    "skimage.io.imshow(selection)\n",
    "plt.show()"
   ]
  },
  {
   "cell_type": "markdown",
   "id": "c9da4375",
   "metadata": {},
   "source": [
    "## Adaptive thresholding"
   ]
  }
 ],
 "metadata": {
  "kernelspec": {
   "display_name": "Python 3",
   "language": "python",
   "name": "python3"
  },
  "language_info": {
   "codemirror_mode": {
    "name": "ipython",
    "version": 3
   },
   "file_extension": ".py",
   "mimetype": "text/x-python",
   "name": "python",
   "nbconvert_exporter": "python",
   "pygments_lexer": "ipython3",
   "version": "3.6.8"
  }
 },
 "nbformat": 4,
 "nbformat_minor": 5
}
