{
 "cells": [
  {
   "cell_type": "markdown",
   "id": "82606d9e",
   "metadata": {},
   "source": [
    "# Thresholding"
   ]
  },
  {
   "cell_type": "markdown",
   "id": "7d6ebf3e",
   "metadata": {},
   "source": [
    "## Simple thresholding"
   ]
  },
  {
   "cell_type": "code",
   "execution_count": null,
   "id": "731ef48b",
   "metadata": {},
   "outputs": [],
   "source": [
    "import numpy as np\n",
    "import matplotlib.pyplot as plt\n",
    "import skimage.io\n",
    "import skimage.color\n",
    "import skimage.filters"
   ]
  },
  {
   "cell_type": "code",
   "execution_count": null,
   "id": "df336644",
   "metadata": {},
   "outputs": [],
   "source": [
    "import numpy as np\n",
    "import matplotlib.pyplot as plt\n",
    "import skimage.io\n",
    "import skimage.color\n",
    "import skimage.filters\n",
    "\n",
    "# load the image\n",
    "image = skimage.io.imread(\"../../fig/06-junk-before.jpg\")\n",
    "\n",
    "# convert the image to grayscale\n",
    "gray_image = skimage.color.rgb2gray(image)"
   ]
  },
  {
   "cell_type": "code",
   "execution_count": null,
   "id": "77f1402b",
   "metadata": {},
   "outputs": [],
   "source": [
    "# create a histogram of the blurred grayscale image\n",
    "histogram, bin_edges = np.histogram(gray_image, bins=256, range=(0.0, 1.0))\n",
    "\n",
    "plt.plot(bin_edges[0:-1], histogram)\n",
    "plt.title(\"Grayscale Histogram\")\n",
    "plt.xlabel(\"grayscale value\")\n",
    "plt.ylabel(\"pixels\")\n",
    "plt.xlim(0, 1.0)\n",
    "plt.show()"
   ]
  },
  {
   "cell_type": "code",
   "execution_count": null,
   "id": "33c41f1c",
   "metadata": {},
   "outputs": [],
   "source": [
    "# create a mask based on the threshold\n",
    "t = 0.8\n",
    "binary_mask = gray_image < t\n",
    "skimage.io.imshow(binary_mask)\n",
    "plt.show()"
   ]
  },
  {
   "cell_type": "code",
   "execution_count": null,
   "id": "7bf06891",
   "metadata": {},
   "outputs": [],
   "source": [
    "# use the binary_mask to select the \"interesting\" part of the image\n",
    "selection = np.zeros_like(image)\n",
    "selection[binary_mask] = image[binary_mask]\n",
    "\n",
    "skimage.io.imshow(selection)\n",
    "plt.show()"
   ]
  },
  {
   "cell_type": "markdown",
   "id": "ef38cd47",
   "metadata": {},
   "source": [
    "### More practice with simple thresholding"
   ]
  },
  {
   "cell_type": "code",
   "execution_count": null,
   "id": "e27f67b9",
   "metadata": {},
   "outputs": [],
   "source": [
    "image = skimage.io.imread(\"../../fig/06-more-junk.jpg\")\n",
    "gray_image = skimage.color.rgb2gray(image)\n",
    "histogram, bin_edges = np.histogram(gray_image, bins=256, range=(0.0, 1.0))\n",
    "\n",
    "plt.plot(bin_edges[0:-1], histogram)\n",
    "plt.title(\"Graylevel histogram\")\n",
    "plt.xlabel(\"gray value\")\n",
    "plt.ylabel(\"pixel count\")\n",
    "plt.xlim(0, 1.0)\n",
    "plt.show()"
   ]
  },
  {
   "cell_type": "code",
   "execution_count": null,
   "id": "add31bb3",
   "metadata": {},
   "outputs": [],
   "source": [
    "t = 0.5\n",
    "binary_mask = gray_image > t\n",
    "\n",
    "skimage.io.imshow(binary_mask)\n",
    "plt.show()"
   ]
  },
  {
   "cell_type": "code",
   "execution_count": null,
   "id": "24d3e2c9",
   "metadata": {},
   "outputs": [],
   "source": [
    "selection = np.zeros_like(image)\n",
    "selection[binary_mask] = image[binary_mask]\n",
    "\n",
    "skimage.io.imshow(selection)\n",
    "plt.show()"
   ]
  },
  {
   "cell_type": "markdown",
   "id": "8a3ad166",
   "metadata": {},
   "source": [
    "## Adaptive thresholding"
   ]
  },
  {
   "cell_type": "code",
   "execution_count": null,
   "id": "962b4d9c",
   "metadata": {},
   "outputs": [],
   "source": [
    "image = skimage.io.imread(\"../../fig/06-roots-original.jpg\")\n",
    "\n",
    "# conver the image to grayscale\n",
    "gray_image = skimage.color.rgb2gray(image)\n",
    "\n",
    "# blur the image to denoise\n",
    "sigma = 1.0\n",
    "blurred_image = skimage.filters.gaussian(gray_image, sigma=sigma)\n",
    "\n",
    "histogram, bin_edges = np.histogram(blurred_image, bins=256, range=(0.0, 1.0))\n",
    "plt.plot(bin_edges[0:-1], histogram)\n",
    "plt.title(\"Graylevel histogram\")\n",
    "plt.xlabel(\"gray value\")\n",
    "plt.ylabel(\"pixel count\")\n",
    "plt.xlim(0, 1.0)\n",
    "plt.show()"
   ]
  },
  {
   "cell_type": "code",
   "execution_count": null,
   "id": "27780d45",
   "metadata": {},
   "outputs": [],
   "source": [
    "# perform adaptive thresholding\n",
    "t = skimage.filters.threshold_otsu(blurred_image)\n",
    "print(t)"
   ]
  },
  {
   "cell_type": "code",
   "execution_count": null,
   "id": "67ff2c85",
   "metadata": {},
   "outputs": [],
   "source": [
    "# perform adaptive thresholding\n",
    "binary_mask = blurred_image > t\n",
    "skimage.io.imshow(binary_mask)\n",
    "plt.show()"
   ]
  },
  {
   "cell_type": "code",
   "execution_count": null,
   "id": "ea91a171",
   "metadata": {},
   "outputs": [],
   "source": [
    "# apply the binary mask to select the foreground\n",
    "selection = np.zeros_like(image)\n",
    "selection[binary_mask] = image[binary_mask]\n",
    "\n",
    "skimage.io.imshow(selection)\n",
    "plt.show()"
   ]
  },
  {
   "cell_type": "markdown",
   "id": "26ae3cd1",
   "metadata": {},
   "source": [
    "## Application: measuring root mass"
   ]
  },
  {
   "cell_type": "code",
   "execution_count": null,
   "id": "3ed1e9ad",
   "metadata": {},
   "outputs": [],
   "source": []
  }
 ],
 "metadata": {
  "kernelspec": {
   "display_name": "Python 3",
   "language": "python",
   "name": "python3"
  },
  "language_info": {
   "codemirror_mode": {
    "name": "ipython",
    "version": 3
   },
   "file_extension": ".py",
   "mimetype": "text/x-python",
   "name": "python",
   "nbconvert_exporter": "python",
   "pygments_lexer": "ipython3",
   "version": "3.6.8"
  }
 },
 "nbformat": 4,
 "nbformat_minor": 5
}
