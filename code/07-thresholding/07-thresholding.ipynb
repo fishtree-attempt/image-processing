{
 "cells": [
  {
   "cell_type": "markdown",
   "id": "82606d9e",
   "metadata": {},
   "source": [
    "# Thresholding"
   ]
  },
  {
   "cell_type": "code",
   "execution_count": null,
   "id": "731ef48b",
   "metadata": {},
   "outputs": [],
   "source": [
    "import numpy as np\n",
    "import matplotlib.pyplot as plt\n",
    "import skimage.io\n",
    "import skimage.color\n",
    "import skimage.filters"
   ]
  },
  {
   "cell_type": "code",
   "execution_count": null,
   "id": "df336644",
   "metadata": {},
   "outputs": [],
   "source": [
    "import numpy as np\n",
    "import matplotlib.pyplot as plt\n",
    "import skimage.io\n",
    "import skimage.color\n",
    "import skimage.filters\n",
    "\n",
    "# load the image\n",
    "image = skimage.io.imread(\"../../fig/06-junk-before.jpg\")\n",
    "\n",
    "# convert to grayscale image\n",
    "gray_image = skimage.color.rgb2gray(image)\n",
    "\n",
    "# blur the image\n",
    "sigma = 2.0\n",
    "blurred_image = skimage.filters.gaussian(gray_image, sigma=sigma)"
   ]
  },
  {
   "cell_type": "code",
   "execution_count": null,
   "id": "77f1402b",
   "metadata": {},
   "outputs": [],
   "source": [
    "# create a histogram of the blurred grayscale image\n",
    "histogram, bin_edges = np.histogram(blurred_image, bins=256, range=(0.0, 1.0))\n",
    "\n",
    "plt.plot(bin_edges[0:-1], histogram)\n",
    "plt.title(\"Grayscale Histogram\")\n",
    "plt.xlabel(\"grayscale value\")\n",
    "plt.ylabel(\"pixels\")\n",
    "plt.xlim(0, 1.0)\n",
    "plt.show()"
   ]
  },
  {
   "cell_type": "code",
   "execution_count": null,
   "id": "33c41f1c",
   "metadata": {},
   "outputs": [],
   "source": [
    "# create a mask based on the threshold\n",
    "t = 0.8\n",
    "binary_mask = blurred_image < t\n",
    "skimage.io.imshow(binary_mask)\n",
    "plt.show()"
   ]
  },
  {
   "cell_type": "code",
   "execution_count": null,
   "id": "7bf06891",
   "metadata": {},
   "outputs": [],
   "source": [
    "# use the binary_mask to select the \"interesting\" part of the image\n",
    "selection = np.zeros_like(image)\n",
    "selection[binary_mask] = image[binary_mask]\n",
    "\n",
    "skimage.io.imshow(selection)\n",
    "plt.show()"
   ]
  }
 ],
 "metadata": {
  "kernelspec": {
   "display_name": "Python 3",
   "language": "python",
   "name": "python3"
  },
  "language_info": {
   "codemirror_mode": {
    "name": "ipython",
    "version": 3
   },
   "file_extension": ".py",
   "mimetype": "text/x-python",
   "name": "python",
   "nbconvert_exporter": "python",
   "pygments_lexer": "ipython3",
   "version": "3.6.8"
  }
 },
 "nbformat": 4,
 "nbformat_minor": 5
}
