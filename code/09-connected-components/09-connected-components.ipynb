{
 "cells": [
  {
   "cell_type": "markdown",
   "id": "5189dac3",
   "metadata": {},
   "source": [
    "# Connected Component Analysis"
   ]
  },
  {
   "cell_type": "code",
   "execution_count": null,
   "id": "4269c316",
   "metadata": {},
   "outputs": [],
   "source": [
    "import numpy as np\n",
    "import matplotlib.pyplot as plt\n",
    "import skimage.io\n",
    "import skimage.color\n",
    "import skimage.filters\n",
    "import skimage.measure"
   ]
  },
  {
   "cell_type": "code",
   "execution_count": null,
   "id": "55add486",
   "metadata": {},
   "outputs": [],
   "source": [
    "image = skimage.io.imread(\"junk.jpg\")\n",
    "skimage.io.imshow(image)\n",
    "plt.show()"
   ]
  },
  {
   "cell_type": "code",
   "execution_count": null,
   "id": "b6855a5c",
   "metadata": {},
   "outputs": [],
   "source": [
    "gray_image = skimage.color.rgb2gray(image)\n",
    "\n",
    "sigma = 2.0\n",
    "blurred_image = skimage.filters.gaussian(gray_image, sigma=sigma)\n",
    "\n",
    "t = 0.9\n",
    "binary_mask = blurred_image < t\n",
    "skimage.io.imshow(binary_mask)\n",
    "plt.show()"
   ]
  },
  {
   "cell_type": "markdown",
   "id": "6161446e",
   "metadata": {},
   "source": [
    "## Connected Component Analysis"
   ]
  },
  {
   "cell_type": "code",
   "execution_count": null,
   "id": "a9399fe7",
   "metadata": {},
   "outputs": [],
   "source": [
    "connectivity = 2\n",
    "labeled_image, count = skimage.measure.label(binary_mask, connectivity=connectivity, return_num=True)\n",
    "skimage.io.imshow(labeled_image)\n",
    "plt.show()"
   ]
  },
  {
   "cell_type": "code",
   "execution_count": null,
   "id": "3387794d",
   "metadata": {
    "scrolled": false
   },
   "outputs": [],
   "source": [
    "colored_label_image = skimage.color.label2rgb(labeled_image, bg_label=0)\n",
    "skimage.io.imshow(colored_label_image)\n",
    "plt.axis('off')\n",
    "plt.savefig(\"../../fig/09-labeled-objects.png\",dpi=150)\n",
    "plt.show()"
   ]
  },
  {
   "cell_type": "markdown",
   "id": "33b0a378",
   "metadata": {},
   "source": [
    "### How many objects are in that image"
   ]
  },
  {
   "cell_type": "code",
   "execution_count": null,
   "id": "57e0c70e",
   "metadata": {
    "scrolled": false
   },
   "outputs": [],
   "source": [
    "def connected_components(filename, sigma=1.0, t=0.5, connectivity=2):\n",
    "    image = skimage.io.imread(filename)\n",
    "    gray_image = skimage.color.rgb2gray(image)\n",
    "    blurred_image = skimage.filters.gaussian(gray_image, sigma=sigma)\n",
    "    binary_mask = blurred_image < t\n",
    "    labeled_image, count = skimage.measure.label(binary_mask, connectivity=connectivity, return_num=True)\n",
    "    return labeled_image, count\n",
    "\n",
    "labeled_image, count = connected_components(\"junk.jpg\", sigma=2.0, t=0.9, connectivity=2)\n",
    "skimage.io.imshow(labeled_image)"
   ]
  },
  {
   "cell_type": "code",
   "execution_count": null,
   "id": "ca9e2955",
   "metadata": {},
   "outputs": [],
   "source": [
    "print(\"Found\", count, \"objects in the image.\")"
   ]
  },
  {
   "cell_type": "code",
   "execution_count": null,
   "id": "9f9727eb",
   "metadata": {},
   "outputs": [],
   "source": [
    "num_objects = np.max(labeled_image)\n",
    "print(\"Found\", num_objects, \"objects in the image.\")"
   ]
  },
  {
   "cell_type": "code",
   "execution_count": null,
   "id": "ca46e63e",
   "metadata": {},
   "outputs": [],
   "source": [
    "skimage.io.imshow(colored_label_image)\n",
    "plt.xlim(0,200)\n",
    "plt.ylim(1700,1300)\n",
    "plt.show()"
   ]
  },
  {
   "cell_type": "markdown",
   "id": "8b704ed7",
   "metadata": {},
   "source": [
    "## Morphometrics - Describe object features with numbers"
   ]
  },
  {
   "cell_type": "markdown",
   "id": "959865ce",
   "metadata": {},
   "source": [
    "### Plot a histogram of the object area distribution"
   ]
  },
  {
   "cell_type": "code",
   "execution_count": null,
   "id": "12e42914",
   "metadata": {},
   "outputs": [],
   "source": [
    "# compute object features and extrac object areas\n",
    "object_features = skimage.measure.regionprops(labeled_image)\n",
    "object_areas = [objf[\"area\"] for objf in object_features]\n",
    "plt.hist(object_areas)\n",
    "plt.savefig(\"../../fig/07-areas-histogram.png\",dpi=150)\n",
    "object_areas"
   ]
  },
  {
   "cell_type": "markdown",
   "id": "aa6aebbf",
   "metadata": {},
   "source": [
    "### Filter objects by area"
   ]
  },
  {
   "cell_type": "code",
   "execution_count": null,
   "id": "9e620530",
   "metadata": {},
   "outputs": [],
   "source": [
    "min_area = 200\n",
    "large_objects = [ area for area in object_areas if area > min_area ]\n",
    "plt.hist(large_objects)\n",
    "large_objects"
   ]
  },
  {
   "cell_type": "code",
   "execution_count": null,
   "id": "d10befd0",
   "metadata": {},
   "outputs": [],
   "source": [
    "object_areas = np.array(object_areas)\n",
    "np.count_nonzero(object_areas > min_area)"
   ]
  },
  {
   "cell_type": "code",
   "execution_count": null,
   "id": "c0e6939d",
   "metadata": {},
   "outputs": [],
   "source": [
    "object_labels = np.array([objf[\"label\"] for objf in object_features])\n",
    "small_object_labels = object_labels[np.where(object_areas < min_area)]\n",
    "list(small_object_labels)"
   ]
  },
  {
   "cell_type": "code",
   "execution_count": null,
   "id": "9857c65e",
   "metadata": {},
   "outputs": [],
   "source": [
    "def enhanced_connected_components(filename, sigma=1.0, t=0.5, connectivity=2, min_area=0):\n",
    "    image = skimage.io.imread(filename)\n",
    "    gray_image = skimage.color.rgb2gray(image)\n",
    "    blurred_image = skimage.filters.gaussian(gray_image, sigma=sigma)\n",
    "    binary_mask = blurred_image < t\n",
    "    labeled_image, count = skimage.measure.label(binary_mask, connectivity=connectivity, return_num=True)\n",
    "    object_features = skimage.measure.regionprops(labeled_image)\n",
    "    object_areas = np.array([objf[\"area\"] for objf in object_features])\n",
    "    large_count = np.count_nonzero(object_areas > min_area)\n",
    "    object_labels = np.array([objf[\"label\"] for objf in object_features])\n",
    "    small_object_labels = object_labels[np.where(object_areas < min_area)]\n",
    "    labeled_image[np.isin(labeled_image,small_object_labels)] = 0\n",
    "    return labeled_image, large_count\n",
    "\n",
    "labeled_image, count = enhanced_connected_components(\"junk.jpg\", sigma=2.0, t=0.9, connectivity=2, min_area=200)\n",
    "colored_label_image = skimage.color.label2rgb(labeled_image, bg_label=0)\n",
    "skimage.io.imshow(colored_label_image)\n",
    "plt.axis('off')\n",
    "plt.savefig(\"../../fig/09-filtered-objects.png\",dpi=150)\n",
    "print(\"Found\", count, \"objects in the image.\")"
   ]
  },
  {
   "cell_type": "code",
   "execution_count": null,
   "id": "9c61fd55",
   "metadata": {},
   "outputs": [],
   "source": [
    "colored_label_image = np.insert(0,1,object_areas)[labeled_image]\n",
    "fig = skimage.io.imshow(colored_label_image)\n",
    "fig.figure.get_axes()[0].axis('off')\n",
    "fig.figure.get_axes()[1].set_title('area')\n",
    "plt.savefig(\"../../fig/09-objects-colored-by-area.png\",dpi=150)"
   ]
  }
 ],
 "metadata": {
  "kernelspec": {
   "display_name": "Python 3",
   "language": "python",
   "name": "python3"
  },
  "language_info": {
   "codemirror_mode": {
    "name": "ipython",
    "version": 3
   },
   "file_extension": ".py",
   "mimetype": "text/x-python",
   "name": "python",
   "nbconvert_exporter": "python",
   "pygments_lexer": "ipython3",
   "version": "3.6.8"
  }
 },
 "nbformat": 4,
 "nbformat_minor": 5
}
